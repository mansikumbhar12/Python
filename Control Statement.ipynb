{
  "nbformat": 4,
  "nbformat_minor": 0,
  "metadata": {
    "colab": {
      "provenance": []
    },
    "kernelspec": {
      "name": "python3",
      "display_name": "Python 3"
    },
    "language_info": {
      "name": "python"
    }
  },
  "cells": [
    {
      "cell_type": "code",
      "execution_count": 2,
      "metadata": {
        "colab": {
          "base_uri": "https://localhost:8080/"
        },
        "id": "R19xNmd7swtZ",
        "outputId": "51dc60c6-8241-4f2d-dc6a-d496fe758387"
      },
      "outputs": [
        {
          "output_type": "stream",
          "name": "stdout",
          "text": [
            "Enter a year: 1999\n",
            "1999 is not a leap year.\n"
          ]
        }
      ],
      "source": [
        "#1. Python Program to Check Leap Year:\n",
        "def is_leap_year(year):\n",
        "    if (year % 4 == 0 and year % 100 != 0) or (year % 400 == 0):\n",
        "        return True\n",
        "    else:\n",
        "        return False\n",
        "\n",
        "year = int(input(\"Enter a year: \"))\n",
        "if is_leap_year(year):\n",
        "    print(f\"{year} is a leap year.\")\n",
        "else:\n",
        "    print(f\"{year} is not a leap year.\")"
      ]
    },
    {
      "cell_type": "code",
      "source": [
        "#2. Python Program to Find the Largest Among Three Numbers:\n",
        "def find_largest(num1, num2, num3):\n",
        "    if num1 >= num2 and num1 >= num3:\n",
        "        return num1\n",
        "    elif num2 >= num1 and num2 >= num3:\n",
        "        return num2\n",
        "    else:\n",
        "        return num3\n",
        "\n",
        "num1 = float(input(\"Enter first number: \"))\n",
        "num2 = float(input(\"Enter second number: \"))\n",
        "num3 = float(input(\"Enter third number: \"))\n",
        "\n",
        "largest = find_largest(num1, num2, num3)\n",
        "print(f\"The largest number is {largest}.\")"
      ],
      "metadata": {
        "colab": {
          "base_uri": "https://localhost:8080/"
        },
        "id": "4OgnVTI_s1Th",
        "outputId": "885e73ff-368e-454a-b38b-faf7fd3fa473"
      },
      "execution_count": 3,
      "outputs": [
        {
          "output_type": "stream",
          "name": "stdout",
          "text": [
            "Enter first number: 45\n",
            "Enter second number: 34\n",
            "Enter third number: 55\n",
            "The largest number is 55.0.\n"
          ]
        }
      ]
    },
    {
      "cell_type": "code",
      "source": [
        "#3. Python Program to Check if a Number is Positive, Negative, or 0:\n",
        "def check_number(number):\n",
        "    if number > 0:\n",
        "        return \"Positive\"\n",
        "    elif number < 0:\n",
        "        return \"Negative\"\n",
        "    else:\n",
        "        return \"Zero\"\n",
        "\n",
        "number = float(input(\"Enter a number: \"))\n",
        "result = check_number(number)\n",
        "print(f\"The number is {result}.\")"
      ],
      "metadata": {
        "colab": {
          "base_uri": "https://localhost:8080/"
        },
        "id": "77_-thsetDuZ",
        "outputId": "ff0852a0-bce9-41da-87c1-6f591aa5a3a8"
      },
      "execution_count": 4,
      "outputs": [
        {
          "output_type": "stream",
          "name": "stdout",
          "text": [
            "Enter a number: 55\n",
            "The number is Positive.\n"
          ]
        }
      ]
    },
    {
      "cell_type": "code",
      "source": [
        "#4. Python Program for Toy Vendor Discount Calculation:\n",
        "def calculate_net_amount(product_code, order_amount):\n",
        "    if product_code == 1 and order_amount > 1000:\n",
        "        discount = 0.10\n",
        "    elif product_code == 2 and order_amount > 100:\n",
        "        discount = 0.05\n",
        "    elif product_code == 3 and order_amount > 500:\n",
        "        discount = 0.10\n",
        "    else:\n",
        "        discount = 0.0\n",
        "\n",
        "    net_amount = order_amount - (order_amount * discount)\n",
        "    return net_amount\n",
        "\n",
        "product_code = int(input(\"Enter product code (1 for Battery Based Toys, 2 for Key-based Toys, 3 for Electrical Charging Based Toys): \"))\n",
        "order_amount = float(input(\"Enter the order amount: \"))\n",
        "\n",
        "net_amount = calculate_net_amount(product_code, order_amount)\n",
        "print(f\"The net amount to be paid is: Rs. {net_amount:.2f}\")"
      ],
      "metadata": {
        "colab": {
          "base_uri": "https://localhost:8080/"
        },
        "id": "BYuX-3iytM2F",
        "outputId": "864be0ad-6122-442d-99e1-1ee2d7bb90d5"
      },
      "execution_count": 5,
      "outputs": [
        {
          "output_type": "stream",
          "name": "stdout",
          "text": [
            "Enter product code (1 for Battery Based Toys, 2 for Key-based Toys, 3 for Electrical Charging Based Toys): 1\n",
            "Enter the order amount: 200\n",
            "The net amount to be paid is: Rs. 200.00\n"
          ]
        }
      ]
    },
    {
      "cell_type": "code",
      "source": [
        "#5. Python Program for Transport Company Fare Calculation:\n",
        "def calculate_fare(distance):\n",
        "    if distance <= 50:\n",
        "        fare = distance * 8\n",
        "    elif distance <= 100:\n",
        "        fare = (50 * 8) + ((distance - 50) * 10)\n",
        "    else:\n",
        "        fare = (50 * 8) + (50 * 10) + ((distance - 100) * 12)\n",
        "    return fare\n",
        "\n",
        "distance = int(input(\"Enter the distance traveled in km: \"))\n",
        "\n",
        "fare = calculate_fare(distance)\n",
        "print(f\"The fare for the distance traveled is: Rs. {fare}\")"
      ],
      "metadata": {
        "colab": {
          "base_uri": "https://localhost:8080/"
        },
        "id": "shWqWf03taHL",
        "outputId": "ee26a274-6773-4ea9-dc9f-80e992c725f5"
      },
      "execution_count": 6,
      "outputs": [
        {
          "output_type": "stream",
          "name": "stdout",
          "text": [
            "Enter the distance traveled in km: 5\n",
            "The fare for the distance traveled is: Rs. 40\n"
          ]
        }
      ]
    }
  ]
}